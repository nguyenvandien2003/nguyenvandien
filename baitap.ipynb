{
  "nbformat": 4,
  "nbformat_minor": 0,
  "metadata": {
    "colab": {
      "name": "baitap",
      "provenance": [],
      "authorship_tag": "ABX9TyM4LJ0MR2MEfMAmrzNksVzj",
      "include_colab_link": true
    },
    "kernelspec": {
      "name": "python3",
      "display_name": "Python 3"
    },
    "language_info": {
      "name": "python"
    }
  },
  "cells": [
    {
      "cell_type": "markdown",
      "metadata": {
        "id": "view-in-github",
        "colab_type": "text"
      },
      "source": [
        "<a href=\"https://colab.research.google.com/github/nguyenvandien2003/nguyenvandien/blob/main/baitap.ipynb\" target=\"_parent\"><img src=\"https://colab.research.google.com/assets/colab-badge.svg\" alt=\"Open In Colab\"/></a>"
      ]
    },
    {
      "cell_type": "code",
      "metadata": {
        "colab": {
          "base_uri": "https://localhost:8080/"
        },
        "id": "I6-1UQT_RYSN",
        "outputId": "59925a78-0ad2-4dbd-bdbf-86d47585e2d1"
      },
      "source": [
        "print(\"tuân thủ nguyên tắc 5k để phòng chống covid\")"
      ],
      "execution_count": 3,
      "outputs": [
        {
          "output_type": "stream",
          "name": "stdout",
          "text": [
            "tuân thủ nguyên tắc 5k để phòng chống covid\n"
          ]
        }
      ]
    }
  ]
}